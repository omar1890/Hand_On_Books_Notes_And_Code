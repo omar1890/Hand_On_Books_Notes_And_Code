{
 "cells": [
  {
   "cell_type": "markdown",
   "metadata": {},
   "source": [
    "# Content\n",
    "- MNIST 85\n",
    "- Training a Binary Classifier 88\n",
    "- Performance Measures 88\n",
    "    - Measuring Accuracy Using Cross-Validation 89\n",
    "    - Confusion Matrix 90\n",
    "    - Precision and Recall 92\n",
    "    - Precision/Recall Trade-off 93\n",
    "    - The ROC Curve 97\n",
    "- Multiclass Classification 100\n",
    "- Error Analysis 102\n",
    "- Multilabel Classification 106\n",
    "- Multioutput Classification 107\n",
    "- Exercises 108"
   ]
  },
  {
   "cell_type": "markdown",
   "metadata": {},
   "source": [
    "# MNIST"
   ]
  },
  {
   "cell_type": "code",
   "execution_count": 3,
   "metadata": {},
   "outputs": [],
   "source": [
    "from sklearn.datasets import fetch_openml\n",
    "mnist = fetch_openml('mnist_784',version=1)"
   ]
  },
  {
   "cell_type": "code",
   "execution_count": 6,
   "metadata": {},
   "outputs": [
    {
     "data": {
      "text/plain": [
       "((70000, 784), (70000,))"
      ]
     },
     "execution_count": 6,
     "metadata": {},
     "output_type": "execute_result"
    }
   ],
   "source": [
    "X,y = mnist['data'], mnist['target']\n",
    "X.shape,y.shape"
   ]
  },
  {
   "cell_type": "code",
   "execution_count": 7,
   "metadata": {},
   "outputs": [],
   "source": [
    "import numpy as np\n",
    "y = y.astype(np.uint8)"
   ]
  },
  {
   "cell_type": "markdown",
   "metadata": {},
   "source": [
    "# Split data into train - test"
   ]
  },
  {
   "cell_type": "code",
   "execution_count": 8,
   "metadata": {},
   "outputs": [],
   "source": [
    "X_train, X_test, y_train, y_test = X[:60000], X[60000:], y[:60000], y[60000:]"
   ]
  },
  {
   "cell_type": "markdown",
   "metadata": {},
   "source": [
    "# Note : \n",
    "a Stochastic Gradi‐\n",
    "ent Descent (SGD) classifier, using Scikit-Learn’s SGDClassifier class. This classifier\n",
    "has the advantage of being capable of handling very large datasets efficiently"
   ]
  },
  {
   "cell_type": "markdown",
   "metadata": {},
   "source": [
    "# Performance Measures"
   ]
  },
  {
   "cell_type": "markdown",
   "metadata": {},
   "source": [
    "(1) Cross validation"
   ]
  },
  {
   "cell_type": "code",
   "execution_count": null,
   "metadata": {},
   "outputs": [],
   "source": [
    "from sklearn.model_selection import cross_val_score\n",
    "cross_val_score(sgd_clf, X_train, y_train_5, cv=3, scoring=\"accuracy\")\n",
    "#accuracy can not work within all cases"
   ]
  },
  {
   "cell_type": "markdown",
   "metadata": {},
   "source": [
    "(2) Confusion matrix\n",
    "<br>\n",
    "<image src='ml-data/confusion_matrix.png'>"
   ]
  },
  {
   "cell_type": "code",
   "execution_count": null,
   "metadata": {},
   "outputs": [],
   "source": [
    "from sklearn.metrics import confusion_matrix\n",
    "confusion_matrix(y_train_5, y_train_pred)\n",
    "array([[53057, 1522],\n",
    " [ 1325, 4096]]"
   ]
  },
  {
   "cell_type": "markdown",
   "metadata": {},
   "source": [
    "(3) Precision, Recall, F1-score\n",
    "<br>\n",
    "<image src='ml-data/precision_and_recall.png'>\n",
    "<br>\n",
    "<image src='ml-data/f1_score.png'>"
   ]
  },
  {
   "cell_type": "code",
   "execution_count": null,
   "metadata": {},
   "outputs": [],
   "source": [
    "from sklearn.metrics import precision_score, recall_score\n",
    "precision_score(y_train_5, y_train_pred) # == 4096 / (4096 + 1522)\n",
    "0.7290850836596654\n",
    "recall_score(y_train_5, y_train_pred) # == 4096 / (4096 + 1325)\n",
    "0.7555801512636044"
   ]
  },
  {
   "cell_type": "markdown",
   "metadata": {},
   "source": [
    "(4) The ROC Curve\n",
    "<br>\n",
    "<image src='ml-data/roc.PNG'>"
   ]
  },
  {
   "cell_type": "markdown",
   "metadata": {},
   "source": [
    "# Golden Note :\n",
    "One way to compare classifiers is to measure the area under the curve (AUC). A per‐\n",
    "fect classifier will have a ROC AUC equal to 1, whereas a purely random classifier will\n",
    "have a ROC AUC equal to 0.5."
   ]
  },
  {
   "cell_type": "markdown",
   "metadata": {},
   "source": [
    "<image src='ml-data/ROC_AUC.png'>"
   ]
  },
  {
   "cell_type": "markdown",
   "metadata": {},
   "source": [
    "# Multiclass Classification\n",
    "\n",
    "### One Vs All -- One vs One\n",
    "<image src='ml-data/multiclass.png'>"
   ]
  },
  {
   "cell_type": "markdown",
   "metadata": {},
   "source": [
    "# Note :\n",
    "- Scikit-Learn detects when you try to use a binary classification algorithm for a multi‐\n",
    "class classification task, and it automatically runs OvR or OvO, depending on the\n",
    "algorithm\n",
    "\n",
    "- If you want to force Scikit-Learn to use one-versus-one or one-versus-the-rest, you\n",
    "can use the OneVsOneClassifier or OneVsRestClassifier classes"
   ]
  },
  {
   "cell_type": "markdown",
   "metadata": {},
   "source": [
    "# Multilabel Classification\n",
    "<br>\n",
    "<image src='ml-data/multilabel.png'>"
   ]
  },
  {
   "cell_type": "markdown",
   "metadata": {},
   "source": []
  },
  {
   "cell_type": "markdown",
   "metadata": {},
   "source": []
  },
  {
   "cell_type": "markdown",
   "metadata": {},
   "source": []
  }
 ],
 "metadata": {
  "interpreter": {
   "hash": "485a7b116eb3a8ad65ddd739a567e9f72c40a9d95ef486baa58e0ff3eb709032"
  },
  "kernelspec": {
   "display_name": "Python 3.7.12 64-bit ('base': conda)",
   "language": "python",
   "name": "python3"
  },
  "language_info": {
   "codemirror_mode": {
    "name": "ipython",
    "version": 3
   },
   "file_extension": ".py",
   "mimetype": "text/x-python",
   "name": "python",
   "nbconvert_exporter": "python",
   "pygments_lexer": "ipython3",
   "version": "3.7.12"
  },
  "orig_nbformat": 4
 },
 "nbformat": 4,
 "nbformat_minor": 2
}
