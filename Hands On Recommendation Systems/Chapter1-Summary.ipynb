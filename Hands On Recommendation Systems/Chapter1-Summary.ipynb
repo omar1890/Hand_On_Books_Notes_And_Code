{
 "cells": [
  {
   "cell_type": "markdown",
   "metadata": {},
   "source": [
    "# Chapter 1 :Getting Started with Recommender Systems"
   ]
  },
  {
   "cell_type": "markdown",
   "metadata": {},
   "source": [
    "## Types of recommender systems"
   ]
  },
  {
   "cell_type": "markdown",
   "metadata": {},
   "source": [
    "<h2> 1) Collaborative Filtering : classified into two types</h2>"
   ]
  },
  {
   "cell_type": "markdown",
   "metadata": {},
   "source": [
    "\n",
    "<h3>A- User-Based Filtering :</h3>\n",
    "<h3>if we are able to find users that have\n",
    "bought and liked similar items in the past, they are more likely to buy similar items in the future too</h3>"
   ]
  },
  {
   "cell_type": "markdown",
   "metadata": {},
   "source": [
    "<h3>A- Item-Based Filtering</h3>\n",
    "<h3>If a group of people have rated two items similarly, then the two items must be similar.</h3>"
   ]
  },
  {
   "cell_type": "markdown",
   "metadata": {},
   "source": [
    "<h3>DisAdvantage :</h3>\n",
    "<h3><strong>Cold Start Problem </strong>\n",
    "collaborative filtering is not a good idea at Launch new system since it needs a lot of data</h3>"
   ]
  },
  {
   "cell_type": "markdown",
   "metadata": {},
   "source": [
    "<h3>2)Content-based systems</h3>\n",
    "<h3>-Unlike collaborative filters, content-based systems do not require data relating to past activity.\n",
    "<br>\n",
    "-provide recommendations based on a user profile and metadata it\n",
    "has on particular items <br>\n",
    "-content-based systems don't leverage the power of the community</h3>"
   ]
  },
  {
   "cell_type": "markdown",
   "metadata": {},
   "source": [
    "<h3>3)Knowledge-based recommenders</h3>\n",
    "<h3>-works on rarely bought items <br>\n",
    "-works with ask user for specific information like : range of budget\n",
    "</h3>"
   ]
  },
  {
   "cell_type": "markdown",
   "metadata": {},
   "source": [
    "<h3>4) Hybrid recommenders</h3>\n",
    "<h3>- hybrid recommenders are robust systems that combine various types\n",
    "of recommender models\n",
    "<br>- Hybrid\n",
    "systems try to nullify the disadvantage of one model against an advantage of another.\n",
    "<br>\n",
    "-EX: Netflix example again. When you sign in for the first time, Netflix\n",
    "overcomes the cold start problem of collaborative filters by using a content-based\n",
    "recommender, and, as you gradually start watching and rating movies, it brings its\n",
    "collaborative filtering mechanism into play</h3>"
   ]
  },
  {
   "cell_type": "markdown",
   "metadata": {},
   "source": [
    "# END"
   ]
  }
 ],
 "metadata": {
  "interpreter": {
   "hash": "485a7b116eb3a8ad65ddd739a567e9f72c40a9d95ef486baa58e0ff3eb709032"
  },
  "kernelspec": {
   "display_name": "Python 3.7.10 64-bit ('base': conda)",
   "language": "python",
   "name": "python3"
  },
  "language_info": {
   "name": "python",
   "version": "3.7.10"
  },
  "orig_nbformat": 4
 },
 "nbformat": 4,
 "nbformat_minor": 2
}
